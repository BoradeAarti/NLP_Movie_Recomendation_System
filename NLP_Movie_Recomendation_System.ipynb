{
 "cells": [
  {
   "cell_type": "code",
   "execution_count": 2,
   "id": "3c2097f2-13cf-4945-b925-ff806766bd53",
   "metadata": {},
   "outputs": [],
   "source": [
    "import pandas as pd"
   ]
  },
  {
   "cell_type": "code",
   "execution_count": 3,
   "id": "b31b835a-cdac-471e-b653-f74fe55c9ac4",
   "metadata": {},
   "outputs": [],
   "source": [
    "import ast"
   ]
  },
  {
   "cell_type": "code",
   "execution_count": 4,
   "id": "93c8b427-0710-4906-84b5-f4b0cdfaa4bb",
   "metadata": {},
   "outputs": [],
   "source": [
    "df = pd.read_csv(\"D:/DATA_SCIENCE/DS_NLP/tmdb_5000_credits.csv\")"
   ]
  },
  {
   "cell_type": "code",
   "execution_count": 5,
   "id": "9d12858f-2727-4013-8f33-e692d5f3f2cc",
   "metadata": {},
   "outputs": [
    {
     "data": {
      "text/html": [
       "<div>\n",
       "<style scoped>\n",
       "    .dataframe tbody tr th:only-of-type {\n",
       "        vertical-align: middle;\n",
       "    }\n",
       "\n",
       "    .dataframe tbody tr th {\n",
       "        vertical-align: top;\n",
       "    }\n",
       "\n",
       "    .dataframe thead th {\n",
       "        text-align: right;\n",
       "    }\n",
       "</style>\n",
       "<table border=\"1\" class=\"dataframe\">\n",
       "  <thead>\n",
       "    <tr style=\"text-align: right;\">\n",
       "      <th></th>\n",
       "      <th>movie_id</th>\n",
       "      <th>title</th>\n",
       "      <th>cast</th>\n",
       "      <th>crew</th>\n",
       "    </tr>\n",
       "  </thead>\n",
       "  <tbody>\n",
       "    <tr>\n",
       "      <th>0</th>\n",
       "      <td>19995</td>\n",
       "      <td>Avatar</td>\n",
       "      <td>[{\"cast_id\": 242, \"character\": \"Jake Sully\", \"...</td>\n",
       "      <td>[{\"credit_id\": \"52fe48009251416c750aca23\", \"de...</td>\n",
       "    </tr>\n",
       "    <tr>\n",
       "      <th>1</th>\n",
       "      <td>285</td>\n",
       "      <td>Pirates of the Caribbean: At World's End</td>\n",
       "      <td>[{\"cast_id\": 4, \"character\": \"Captain Jack Spa...</td>\n",
       "      <td>[{\"credit_id\": \"52fe4232c3a36847f800b579\", \"de...</td>\n",
       "    </tr>\n",
       "    <tr>\n",
       "      <th>2</th>\n",
       "      <td>206647</td>\n",
       "      <td>Spectre</td>\n",
       "      <td>[{\"cast_id\": 1, \"character\": \"James Bond\", \"cr...</td>\n",
       "      <td>[{\"credit_id\": \"54805967c3a36829b5002c41\", \"de...</td>\n",
       "    </tr>\n",
       "    <tr>\n",
       "      <th>3</th>\n",
       "      <td>49026</td>\n",
       "      <td>The Dark Knight Rises</td>\n",
       "      <td>[{\"cast_id\": 2, \"character\": \"Bruce Wayne / Ba...</td>\n",
       "      <td>[{\"credit_id\": \"52fe4781c3a36847f81398c3\", \"de...</td>\n",
       "    </tr>\n",
       "    <tr>\n",
       "      <th>4</th>\n",
       "      <td>49529</td>\n",
       "      <td>John Carter</td>\n",
       "      <td>[{\"cast_id\": 5, \"character\": \"John Carter\", \"c...</td>\n",
       "      <td>[{\"credit_id\": \"52fe479ac3a36847f813eaa3\", \"de...</td>\n",
       "    </tr>\n",
       "  </tbody>\n",
       "</table>\n",
       "</div>"
      ],
      "text/plain": [
       "   movie_id                                     title  \\\n",
       "0     19995                                    Avatar   \n",
       "1       285  Pirates of the Caribbean: At World's End   \n",
       "2    206647                                   Spectre   \n",
       "3     49026                     The Dark Knight Rises   \n",
       "4     49529                               John Carter   \n",
       "\n",
       "                                                cast  \\\n",
       "0  [{\"cast_id\": 242, \"character\": \"Jake Sully\", \"...   \n",
       "1  [{\"cast_id\": 4, \"character\": \"Captain Jack Spa...   \n",
       "2  [{\"cast_id\": 1, \"character\": \"James Bond\", \"cr...   \n",
       "3  [{\"cast_id\": 2, \"character\": \"Bruce Wayne / Ba...   \n",
       "4  [{\"cast_id\": 5, \"character\": \"John Carter\", \"c...   \n",
       "\n",
       "                                                crew  \n",
       "0  [{\"credit_id\": \"52fe48009251416c750aca23\", \"de...  \n",
       "1  [{\"credit_id\": \"52fe4232c3a36847f800b579\", \"de...  \n",
       "2  [{\"credit_id\": \"54805967c3a36829b5002c41\", \"de...  \n",
       "3  [{\"credit_id\": \"52fe4781c3a36847f81398c3\", \"de...  \n",
       "4  [{\"credit_id\": \"52fe479ac3a36847f813eaa3\", \"de...  "
      ]
     },
     "execution_count": 5,
     "metadata": {},
     "output_type": "execute_result"
    }
   ],
   "source": [
    "df.head()"
   ]
  },
  {
   "cell_type": "code",
   "execution_count": 6,
   "id": "1543e542-250d-45bd-95b3-2d90b37d4b5c",
   "metadata": {},
   "outputs": [],
   "source": [
    "def convert3(text):\n",
    "    L=[]\n",
    "    #counter=0\n",
    "    for i in ast.literal_eval(text):\n",
    "        L.append(i[\"name\"])\n",
    "    return L\n",
    "      "
   ]
  },
  {
   "cell_type": "code",
   "execution_count": 7,
   "id": "ca513e8e-b911-4ab7-86a8-34fc98b394a6",
   "metadata": {},
   "outputs": [],
   "source": [
    "\n",
    "df[\"cast\"]=df[\"cast\"].apply(convert3)\t"
   ]
  },
  {
   "cell_type": "code",
   "execution_count": 8,
   "id": "a9bfeca5-8e16-4587-8d83-f83391960414",
   "metadata": {},
   "outputs": [],
   "source": [
    "def fetch_director(text):\n",
    "    L=[]\n",
    "    for i in ast.literal_eval(text):\n",
    "        if i[\"job\"]==\"Director\":\n",
    "            L.append(i[\"name\"])\n",
    "    return L"
   ]
  },
  {
   "cell_type": "code",
   "execution_count": 9,
   "id": "3512a4a0-aa1d-4d58-a81c-02bf8090ecf6",
   "metadata": {},
   "outputs": [],
   "source": [
    "df[\"crew\"]=df[\"crew\"].apply(fetch_director)"
   ]
  },
  {
   "cell_type": "code",
   "execution_count": 10,
   "id": "78e34453-0ca4-4bb5-aaa2-0ece0dd935ac",
   "metadata": {},
   "outputs": [],
   "source": [
    "df[\"tag\"]=df[\"cast\"]+df[\"crew\"]\n",
    "  \n",
    "\n"
   ]
  },
  {
   "cell_type": "code",
   "execution_count": 11,
   "id": "9ea668d6-f700-4fab-8ba2-9ed233b0c152",
   "metadata": {},
   "outputs": [],
   "source": [
    "df=df.drop(columns=[\"cast\",\"crew\"])"
   ]
  },
  {
   "cell_type": "code",
   "execution_count": 12,
   "id": "b7217f18-7ef2-4c48-92c2-375a3e6fb591",
   "metadata": {},
   "outputs": [],
   "source": [
    "df[\"tag\"]=df[\"tag\"].apply(lambda x:\"  \".join(x))"
   ]
  },
  {
   "cell_type": "code",
   "execution_count": 13,
   "id": "21d8ed0d-eba1-4e94-ae2c-968d980df129",
   "metadata": {},
   "outputs": [],
   "source": [
    "from sklearn.feature_extraction.text import CountVectorizer\n",
    "cv = CountVectorizer(max_features=5000,stop_words='english')"
   ]
  },
  {
   "cell_type": "code",
   "execution_count": 14,
   "id": "1afa4a00-cf5f-43b6-ac57-4c38b7b0361f",
   "metadata": {},
   "outputs": [],
   "source": [
    "vector = cv.fit_transform(df['tag']).toarray()"
   ]
  },
  {
   "cell_type": "code",
   "execution_count": 15,
   "id": "d7901290-8a6d-45e1-8e8a-1ba28a56172f",
   "metadata": {},
   "outputs": [],
   "source": [
    "from sklearn.metrics.pairwise import cosine_similarity\n",
    "similarity=cosine_similarity(vector)"
   ]
  },
  {
   "cell_type": "code",
   "execution_count": 16,
   "id": "f343b76f-476f-4852-817c-d091bc267329",
   "metadata": {},
   "outputs": [],
   "source": [
    "def recommend(movie):\n",
    "    index = df[df['title'] == movie].index[0]\n",
    "    distances = sorted(list(enumerate(similarity[index])),reverse=True,key = lambda x: x[1])\n",
    "    for i in distances[1:6]:\n",
    "        print(df.iloc[i[0]].title)\n",
    "        "
   ]
  },
  {
   "cell_type": "code",
   "execution_count": 17,
   "id": "e4d7b414-7f7f-46fc-9f85-6b2572e8e88a",
   "metadata": {},
   "outputs": [
    {
     "name": "stdout",
     "output_type": "stream",
     "text": [
      "Sands of Iwo Jima\n",
      "The Empire Strikes Back\n",
      "Public Enemies\n",
      "Superman\n",
      "Animals\n"
     ]
    }
   ],
   "source": [
    "recommend(\"Gandhi\")"
   ]
  },
  {
   "cell_type": "code",
   "execution_count": null,
   "id": "56e2484b-d5b8-48aa-a4e7-9e684a9aa671",
   "metadata": {},
   "outputs": [],
   "source": []
  },
  {
   "cell_type": "code",
   "execution_count": null,
   "id": "f8685e91-a747-40a1-bdb6-4e0f0df91aea",
   "metadata": {},
   "outputs": [],
   "source": []
  }
 ],
 "metadata": {
  "kernelspec": {
   "display_name": "Python 3 (ipykernel)",
   "language": "python",
   "name": "python3"
  },
  "language_info": {
   "codemirror_mode": {
    "name": "ipython",
    "version": 3
   },
   "file_extension": ".py",
   "mimetype": "text/x-python",
   "name": "python",
   "nbconvert_exporter": "python",
   "pygments_lexer": "ipython3",
   "version": "3.12.9"
  }
 },
 "nbformat": 4,
 "nbformat_minor": 5
}
